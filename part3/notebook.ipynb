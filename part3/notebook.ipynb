{
 "cells": [
  {
   "cell_type": "code",
   "execution_count": null,
   "metadata": {},
   "outputs": [],
   "source": [
    "import functions\n",
    "\n",
    "file_path = \"data/player_logged_in.csv\"  \n",
    "unique_players = functions.count_unique_players(file_path)\n",
    "print(\"Unique Players:\", unique_players)\n"
   ]
  },
  {
   "cell_type": "code",
   "execution_count": null,
   "metadata": {},
   "outputs": [],
   "source": [
    "import functions\n",
    "import matplotlib.pyplot as plt\n",
    "\n",
    "file_path = \"data/player_logged_in.csv\"\n",
    "dau_data = functions.calcualte_dau(file_path)\n",
    "\n",
    "print(dau_data.head())\n",
    "\n",
    "#Plot line\n",
    "plt.figure(figsize=(12, 6))\n",
    "plt.plot(dau_data['date'], dau_data['DAU'], marker='o', linestyle='-')\n",
    "plt.title('Daily Active Users (DAU) Over Time')\n",
    "plt.xlabel('Date')\n",
    "plt.ylabel('Number of Active Users')\n",
    "plt.xticks(rotation=45)\n",
    "plt.grid()\n",
    "plt.show()\n",
    "\n",
    "#plot bar\n",
    "plt.figure(figsize=(12, 6))\n",
    "plt.bar(dau_data['date'], dau_data['DAU'])\n",
    "plt.title('Daily Active Users (DAU) Over Time')\n",
    "plt.xlabel('Date')\n",
    "plt.ylabel('Number of Active Users')\n",
    "plt.xticks(rotation=45)\n",
    "plt.grid(axis='y')\n",
    "plt.show()"
   ]
  },
  {
   "cell_type": "code",
   "execution_count": null,
   "metadata": {},
   "outputs": [],
   "source": [
    "import functions\n",
    "import matplotlib.pyplot as plt\n",
    "\n",
    "file_path = \"data/player_logged_in.csv\"\n",
    "mau_data = functions.calculate_mau(file_path)\n",
    "\n",
    "mau_data[\"month\"] = mau_data[\"month\"].astype(str)\n",
    "\n",
    "print(mau_data.head())\n",
    "\n",
    "#plot line\n",
    "plt.figure(figsize=(12, 6))\n",
    "plt.plot(mau_data['month'], mau_data['MAU'], marker='o', linestyle='-')\n",
    "plt.title('Monthly Active Users (MAU) Over Time')\n",
    "plt.xlabel('Month')\n",
    "plt.ylabel('Number of Active Users')\n",
    "plt.xticks(rotation=45)\n",
    "plt.grid()\n",
    "plt.show()\n",
    "\n",
    "#plot bar\n",
    "plt.figure(figsize=(12, 6))\n",
    "plt.bar(mau_data['month'], mau_data['MAU'])\n",
    "plt.title('Monthly Active Users (MAU) Over Time')\n",
    "plt.xlabel('Month')\n",
    "plt.ylabel('Number of Active Users')\n",
    "plt.xticks(rotation=45)\n",
    "plt.grid(axis='y')\n",
    "plt.show()"
   ]
  },
  {
   "cell_type": "code",
   "execution_count": null,
   "metadata": {},
   "outputs": [],
   "source": [
    "import functions\n",
    "import matplotlib.pyplot as plt\n",
    "\n",
    "file_path = \"data/player_logged_in.csv\"\n",
    "stickness_data = functions.calcluate_stickiness(file_path)\n",
    "\n",
    "stickness_data[\"month\"] = stickness_data[\"month\"].astype(str)\n",
    "print(stickness_data.head())\n",
    "\n",
    "#plot stickiness\n",
    "plt.figure(figsize=(12, 6))\n",
    "plt.plot(stickness_data['month'], stickness_data['Stickiness'], marker='o', linestyle='-')\n",
    "plt.title('Stickiness Over Time')\n",
    "plt.xlabel('Month')\n",
    "plt.ylabel('Stickiness')\n",
    "plt.xticks(rotation=45)\n",
    "plt.grid()\n",
    "plt.show()\n"
   ]
  },
  {
   "cell_type": "markdown",
   "metadata": {},
   "source": [
    "### Stickiness Analysis Reflection\n",
    "\n",
    "The **stickiness ratio (DAU / MAU)** measures how frequently players return on a daily basis. A higher stickiness value suggests strong player retention and engagement, while a lower value indicates that players may not be returning consistently.  \n",
    "\n",
    "#### **Key Observations:**\n",
    "- A **stickiness value close to 1.0** means players are logging in nearly every day, indicating a highly engaged user base.\n",
    "- A **lower stickiness value** suggests that while many players log in during the month, fewer do so daily. This could indicate casual play patterns or seasonal fluctuations.\n",
    "- Identifying trends in stickiness over time can help pinpoint periods of high or low engagement, guiding decisions on in-game events, updates, or promotions.\n",
    "\n",
    "Maintaining a high stickiness ratio is essential for long-term player retention and community building. Monitoring stickiness trends can help game developers optimize features that encourage daily logins.\n"
   ]
  },
  {
   "cell_type": "code",
   "execution_count": null,
   "metadata": {},
   "outputs": [
    {
     "name": "stdout",
     "output_type": "stream",
     "text": [
      "Median Session Time: 0.0\n",
      "Average Sessions Per User:      month  avg_sessions_per_user\n",
      "0  2022-08               4.503033\n",
      "1  2022-09               7.191944\n",
      "2  2022-10               5.529466\n",
      "3  2022-11               4.696950\n",
      "4  2022-12               4.162029\n",
      "5  2023-01               3.695200\n",
      "6  2023-02               4.320806\n",
      "7  2023-03               4.201643\n"
     ]
    },
    {
     "ename": "KeyError",
     "evalue": "'average_sessions_per_user'",
     "output_type": "error",
     "traceback": [
      "\u001b[31m---------------------------------------------------------------------------\u001b[39m",
      "\u001b[31mKeyError\u001b[39m                                  Traceback (most recent call last)",
      "\u001b[36mFile \u001b[39m\u001b[32m~\\AppData\\Local\\Packages\\PythonSoftwareFoundation.Python.3.12_qbz5n2kfra8p0\\LocalCache\\local-packages\\Python312\\site-packages\\pandas\\core\\indexes\\base.py:3805\u001b[39m, in \u001b[36mIndex.get_loc\u001b[39m\u001b[34m(self, key)\u001b[39m\n\u001b[32m   3804\u001b[39m \u001b[38;5;28;01mtry\u001b[39;00m:\n\u001b[32m-> \u001b[39m\u001b[32m3805\u001b[39m     \u001b[38;5;28;01mreturn\u001b[39;00m \u001b[38;5;28;43mself\u001b[39;49m\u001b[43m.\u001b[49m\u001b[43m_engine\u001b[49m\u001b[43m.\u001b[49m\u001b[43mget_loc\u001b[49m\u001b[43m(\u001b[49m\u001b[43mcasted_key\u001b[49m\u001b[43m)\u001b[49m\n\u001b[32m   3806\u001b[39m \u001b[38;5;28;01mexcept\u001b[39;00m \u001b[38;5;167;01mKeyError\u001b[39;00m \u001b[38;5;28;01mas\u001b[39;00m err:\n",
      "\u001b[36mFile \u001b[39m\u001b[32mindex.pyx:167\u001b[39m, in \u001b[36mpandas._libs.index.IndexEngine.get_loc\u001b[39m\u001b[34m()\u001b[39m\n",
      "\u001b[36mFile \u001b[39m\u001b[32mindex.pyx:196\u001b[39m, in \u001b[36mpandas._libs.index.IndexEngine.get_loc\u001b[39m\u001b[34m()\u001b[39m\n",
      "\u001b[36mFile \u001b[39m\u001b[32mpandas\\\\_libs\\\\hashtable_class_helper.pxi:7081\u001b[39m, in \u001b[36mpandas._libs.hashtable.PyObjectHashTable.get_item\u001b[39m\u001b[34m()\u001b[39m\n",
      "\u001b[36mFile \u001b[39m\u001b[32mpandas\\\\_libs\\\\hashtable_class_helper.pxi:7089\u001b[39m, in \u001b[36mpandas._libs.hashtable.PyObjectHashTable.get_item\u001b[39m\u001b[34m()\u001b[39m\n",
      "\u001b[31mKeyError\u001b[39m: 'average_sessions_per_user'",
      "\nThe above exception was the direct cause of the following exception:\n",
      "\u001b[31mKeyError\u001b[39m                                  Traceback (most recent call last)",
      "\u001b[36mCell\u001b[39m\u001b[36m \u001b[39m\u001b[32mIn[4]\u001b[39m\u001b[32m, line 21\u001b[39m\n\u001b[32m     19\u001b[39m \u001b[38;5;66;03m#plot average sessions per user\u001b[39;00m\n\u001b[32m     20\u001b[39m plt.figure(figsize=(\u001b[32m12\u001b[39m, \u001b[32m6\u001b[39m))\n\u001b[32m---> \u001b[39m\u001b[32m21\u001b[39m plt.plot(average_sessions_per_user[\u001b[33m'\u001b[39m\u001b[33mmonth\u001b[39m\u001b[33m'\u001b[39m], \u001b[43maverage_sessions_per_user\u001b[49m\u001b[43m[\u001b[49m\u001b[33;43m'\u001b[39;49m\u001b[33;43maverage_sessions_per_user\u001b[39;49m\u001b[33;43m'\u001b[39;49m\u001b[43m]\u001b[49m, marker=\u001b[33m'\u001b[39m\u001b[33mo\u001b[39m\u001b[33m'\u001b[39m, linestyle=\u001b[33m'\u001b[39m\u001b[33m-\u001b[39m\u001b[33m'\u001b[39m)\n\u001b[32m     22\u001b[39m plt.title(\u001b[33m'\u001b[39m\u001b[33mAverage Sessions Per User Over Time\u001b[39m\u001b[33m'\u001b[39m)\n\u001b[32m     23\u001b[39m plt.xlabel(\u001b[33m'\u001b[39m\u001b[33mMonth\u001b[39m\u001b[33m'\u001b[39m)\n",
      "\u001b[36mFile \u001b[39m\u001b[32m~\\AppData\\Local\\Packages\\PythonSoftwareFoundation.Python.3.12_qbz5n2kfra8p0\\LocalCache\\local-packages\\Python312\\site-packages\\pandas\\core\\frame.py:4102\u001b[39m, in \u001b[36mDataFrame.__getitem__\u001b[39m\u001b[34m(self, key)\u001b[39m\n\u001b[32m   4100\u001b[39m \u001b[38;5;28;01mif\u001b[39;00m \u001b[38;5;28mself\u001b[39m.columns.nlevels > \u001b[32m1\u001b[39m:\n\u001b[32m   4101\u001b[39m     \u001b[38;5;28;01mreturn\u001b[39;00m \u001b[38;5;28mself\u001b[39m._getitem_multilevel(key)\n\u001b[32m-> \u001b[39m\u001b[32m4102\u001b[39m indexer = \u001b[38;5;28;43mself\u001b[39;49m\u001b[43m.\u001b[49m\u001b[43mcolumns\u001b[49m\u001b[43m.\u001b[49m\u001b[43mget_loc\u001b[49m\u001b[43m(\u001b[49m\u001b[43mkey\u001b[49m\u001b[43m)\u001b[49m\n\u001b[32m   4103\u001b[39m \u001b[38;5;28;01mif\u001b[39;00m is_integer(indexer):\n\u001b[32m   4104\u001b[39m     indexer = [indexer]\n",
      "\u001b[36mFile \u001b[39m\u001b[32m~\\AppData\\Local\\Packages\\PythonSoftwareFoundation.Python.3.12_qbz5n2kfra8p0\\LocalCache\\local-packages\\Python312\\site-packages\\pandas\\core\\indexes\\base.py:3812\u001b[39m, in \u001b[36mIndex.get_loc\u001b[39m\u001b[34m(self, key)\u001b[39m\n\u001b[32m   3807\u001b[39m     \u001b[38;5;28;01mif\u001b[39;00m \u001b[38;5;28misinstance\u001b[39m(casted_key, \u001b[38;5;28mslice\u001b[39m) \u001b[38;5;129;01mor\u001b[39;00m (\n\u001b[32m   3808\u001b[39m         \u001b[38;5;28misinstance\u001b[39m(casted_key, abc.Iterable)\n\u001b[32m   3809\u001b[39m         \u001b[38;5;129;01mand\u001b[39;00m \u001b[38;5;28many\u001b[39m(\u001b[38;5;28misinstance\u001b[39m(x, \u001b[38;5;28mslice\u001b[39m) \u001b[38;5;28;01mfor\u001b[39;00m x \u001b[38;5;129;01min\u001b[39;00m casted_key)\n\u001b[32m   3810\u001b[39m     ):\n\u001b[32m   3811\u001b[39m         \u001b[38;5;28;01mraise\u001b[39;00m InvalidIndexError(key)\n\u001b[32m-> \u001b[39m\u001b[32m3812\u001b[39m     \u001b[38;5;28;01mraise\u001b[39;00m \u001b[38;5;167;01mKeyError\u001b[39;00m(key) \u001b[38;5;28;01mfrom\u001b[39;00m\u001b[38;5;250m \u001b[39m\u001b[34;01merr\u001b[39;00m\n\u001b[32m   3813\u001b[39m \u001b[38;5;28;01mexcept\u001b[39;00m \u001b[38;5;167;01mTypeError\u001b[39;00m:\n\u001b[32m   3814\u001b[39m     \u001b[38;5;66;03m# If we have a listlike key, _check_indexing_error will raise\u001b[39;00m\n\u001b[32m   3815\u001b[39m     \u001b[38;5;66;03m#  InvalidIndexError. Otherwise we fall through and re-raise\u001b[39;00m\n\u001b[32m   3816\u001b[39m     \u001b[38;5;66;03m#  the TypeError.\u001b[39;00m\n\u001b[32m   3817\u001b[39m     \u001b[38;5;28mself\u001b[39m._check_indexing_error(key)\n",
      "\u001b[31mKeyError\u001b[39m: 'average_sessions_per_user'"
     ]
    },
    {
     "data": {
      "text/plain": [
       "<Figure size 1200x600 with 0 Axes>"
      ]
     },
     "metadata": {},
     "output_type": "display_data"
    }
   ],
   "source": [
    "import functions\n",
    "import matplotlib.pyplot as plt\n",
    "\n",
    "start_file_path = \"data/player_logged_in.csv\"\n",
    "end_file_path = \"data/exited_game.csv\"\n",
    "\n",
    "sessions_data = functions.calcluate_sessions(start_file_path, end_file_path)\n",
    "\n",
    "#median sessions\n",
    "median_session_time = functions.calculate_median_session_duration(sessions_data)\n",
    "print(\"Median Session Time:\", median_session_time)\n",
    "\n",
    "# average sessions per user per month\n",
    "average_sessions_per_user = functions.calculate_sessions_per_user(sessions_data)\n",
    "print(\"Average Sessions Per User:\", average_sessions_per_user)\n",
    "\n",
    "average_sessions_per_user[\"month\"] = average_sessions_per_user[\"month\"].astype(str)\n",
    "\n",
    "#plot average sessions per user\n",
    "plt.figure(figsize=(12, 6))\n",
    "plt.plot(average_sessions_per_user['month'], average_sessions_per_user['avg_sessions_per_user'], marker='o', linestyle='-')\n",
    "plt.title('Average Sessions Per User Over Time')\n",
    "plt.xlabel('Month')\n",
    "plt.ylabel('Average Sessions')\n",
    "plt.xticks(rotation=45)\n",
    "plt.grid()\n",
    "plt.show()\n"
   ]
  }
 ],
 "metadata": {
  "kernelspec": {
   "display_name": "Python 3",
   "language": "python",
   "name": "python3"
  },
  "language_info": {
   "codemirror_mode": {
    "name": "ipython",
    "version": 3
   },
   "file_extension": ".py",
   "mimetype": "text/x-python",
   "name": "python",
   "nbconvert_exporter": "python",
   "pygments_lexer": "ipython3",
   "version": "3.12.9"
  }
 },
 "nbformat": 4,
 "nbformat_minor": 2
}
