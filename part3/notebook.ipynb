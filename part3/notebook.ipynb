{
 "cells": [
  {
   "cell_type": "code",
   "execution_count": null,
   "metadata": {},
   "outputs": [],
   "source": [
    "import functions\n",
    "\n",
    "file_path = \"data/player_logged_in.csv\"  \n",
    "unique_players = functions.count_unique_players(file_path)\n",
    "print(\"Unique Players:\", unique_players)\n"
   ]
  },
  {
   "cell_type": "code",
   "execution_count": null,
   "metadata": {},
   "outputs": [],
   "source": [
    "import functions\n",
    "import matplotlib.pyplot as plt\n",
    "\n",
    "file_path = \"data/player_logged_in.csv\"\n",
    "dau_data = functions.calcualte_dau(file_path)\n",
    "\n",
    "print(dau_data.head())\n",
    "\n",
    "#Plot line\n",
    "plt.figure(figsize=(12, 6))\n",
    "plt.plot(dau_data['date'], dau_data['DAU'], marker='o', linestyle='-')\n",
    "plt.title('Daily Active Users (DAU) Over Time')\n",
    "plt.xlabel('Date')\n",
    "plt.ylabel('Number of Active Users')\n",
    "plt.xticks(rotation=45)\n",
    "plt.grid()\n",
    "plt.show()\n",
    "\n",
    "#plot bar\n",
    "plt.figure(figsize=(12, 6))\n",
    "plt.bar(dau_data['date'], dau_data['DAU'])\n",
    "plt.title('Daily Active Users (DAU) Over Time')\n",
    "plt.xlabel('Date')\n",
    "plt.ylabel('Number of Active Users')\n",
    "plt.xticks(rotation=45)\n",
    "plt.grid(axis='y')\n",
    "plt.show()"
   ]
  },
  {
   "cell_type": "code",
   "execution_count": null,
   "metadata": {},
   "outputs": [
    {
     "name": "stdout",
     "output_type": "stream",
     "text": [
      "     month   MAU\n",
      "0  2022-08  6264\n",
      "1  2022-09  4022\n",
      "2  2022-10  2155\n",
      "3  2022-11  1574\n",
      "4  2022-12  1222\n"
     ]
    }
   ],
   "source": [
    "import functions\n",
    "import matplotlib.pyplot as plt\n",
    "\n",
    "file_path = \"data/player_logged_in.csv\"\n",
    "mau_data = functions.calculate_mau(file_path)\n",
    "\n",
    "mau_data[\"month\"] = mau_data[\"month\"].astype(str)\n",
    "\n",
    "print(mau_data.head())\n",
    "\n",
    "#plot line\n",
    "plt.figure(figsize=(12, 6))\n",
    "plt.plot(mau_data['month'], mau_data['MAU'], marker='o', linestyle='-')\n",
    "plt.title('Monthly Active Users (MAU) Over Time')\n",
    "plt.xlabel('Month')\n",
    "plt.ylabel('Number of Active Users')\n",
    "plt.xticks(rotation=45)\n",
    "plt.grid()\n",
    "plt.show()\n",
    "\n",
    "#plot bar\n",
    "plt.figure(figsize=(12, 6))\n",
    "plt.bar(mau_data['month'], mau_data['MAU'])\n",
    "plt.title('Monthly Active Users (MAU) Over Time')\n",
    "plt.xlabel('Month')\n",
    "plt.ylabel('Number of Active Users')\n",
    "plt.xticks(rotation=45)\n",
    "plt.grid(axis='y')\n",
    "plt.show()"
   ]
  }
 ],
 "metadata": {
  "kernelspec": {
   "display_name": "Python 3",
   "language": "python",
   "name": "python3"
  },
  "language_info": {
   "codemirror_mode": {
    "name": "ipython",
    "version": 3
   },
   "file_extension": ".py",
   "mimetype": "text/x-python",
   "name": "python",
   "nbconvert_exporter": "python",
   "pygments_lexer": "ipython3",
   "version": "3.12.9"
  }
 },
 "nbformat": 4,
 "nbformat_minor": 2
}
